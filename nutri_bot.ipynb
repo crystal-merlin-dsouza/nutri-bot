{
  "cells": [
    {
      "cell_type": "markdown",
      "metadata": {
        "id": "view-in-github",
        "colab_type": "text"
      },
      "source": [
        "<a href=\"https://colab.research.google.com/github/crystal-merlin-dsouza/nutri-bot/blob/main/nutri_bot.ipynb\" target=\"_parent\"><img src=\"https://colab.research.google.com/assets/colab-badge.svg\" alt=\"Open In Colab\"/></a>"
      ]
    },
    {
      "cell_type": "code",
      "execution_count": null,
      "metadata": {
        "colab": {
          "base_uri": "https://localhost:8080/"
        },
        "id": "ZMkv4BRY36KZ",
        "outputId": "e1c44b68-7476-4bdb-b678-5b4db9c2f5ed"
      },
      "outputs": [
        {
          "output_type": "stream",
          "name": "stdout",
          "text": [
            "Requirement already satisfied: gradio in /usr/local/lib/python3.11/dist-packages (5.25.1)\n",
            "Requirement already satisfied: aiofiles<25.0,>=22.0 in /usr/local/lib/python3.11/dist-packages (from gradio) (24.1.0)\n",
            "Requirement already satisfied: anyio<5.0,>=3.0 in /usr/local/lib/python3.11/dist-packages (from gradio) (4.9.0)\n",
            "Requirement already satisfied: fastapi<1.0,>=0.115.2 in /usr/local/lib/python3.11/dist-packages (from gradio) (0.115.12)\n",
            "Requirement already satisfied: ffmpy in /usr/local/lib/python3.11/dist-packages (from gradio) (0.5.0)\n",
            "Requirement already satisfied: gradio-client==1.8.0 in /usr/local/lib/python3.11/dist-packages (from gradio) (1.8.0)\n",
            "Requirement already satisfied: groovy~=0.1 in /usr/local/lib/python3.11/dist-packages (from gradio) (0.1.2)\n",
            "Requirement already satisfied: httpx>=0.24.1 in /usr/local/lib/python3.11/dist-packages (from gradio) (0.28.1)\n",
            "Requirement already satisfied: huggingface-hub>=0.28.1 in /usr/local/lib/python3.11/dist-packages (from gradio) (0.30.2)\n",
            "Requirement already satisfied: jinja2<4.0 in /usr/local/lib/python3.11/dist-packages (from gradio) (3.1.6)\n",
            "Requirement already satisfied: markupsafe<4.0,>=2.0 in /usr/local/lib/python3.11/dist-packages (from gradio) (3.0.2)\n",
            "Requirement already satisfied: numpy<3.0,>=1.0 in /usr/local/lib/python3.11/dist-packages (from gradio) (2.0.2)\n",
            "Requirement already satisfied: orjson~=3.0 in /usr/local/lib/python3.11/dist-packages (from gradio) (3.10.16)\n",
            "Requirement already satisfied: packaging in /usr/local/lib/python3.11/dist-packages (from gradio) (24.2)\n",
            "Requirement already satisfied: pandas<3.0,>=1.0 in /usr/local/lib/python3.11/dist-packages (from gradio) (2.2.2)\n",
            "Requirement already satisfied: pillow<12.0,>=8.0 in /usr/local/lib/python3.11/dist-packages (from gradio) (11.1.0)\n",
            "Requirement already satisfied: pydantic<2.12,>=2.0 in /usr/local/lib/python3.11/dist-packages (from gradio) (2.11.3)\n",
            "Requirement already satisfied: pydub in /usr/local/lib/python3.11/dist-packages (from gradio) (0.25.1)\n",
            "Requirement already satisfied: python-multipart>=0.0.18 in /usr/local/lib/python3.11/dist-packages (from gradio) (0.0.20)\n",
            "Requirement already satisfied: pyyaml<7.0,>=5.0 in /usr/local/lib/python3.11/dist-packages (from gradio) (6.0.2)\n",
            "Requirement already satisfied: ruff>=0.9.3 in /usr/local/lib/python3.11/dist-packages (from gradio) (0.11.5)\n",
            "Requirement already satisfied: safehttpx<0.2.0,>=0.1.6 in /usr/local/lib/python3.11/dist-packages (from gradio) (0.1.6)\n",
            "Requirement already satisfied: semantic-version~=2.0 in /usr/local/lib/python3.11/dist-packages (from gradio) (2.10.0)\n",
            "Requirement already satisfied: starlette<1.0,>=0.40.0 in /usr/local/lib/python3.11/dist-packages (from gradio) (0.46.2)\n",
            "Requirement already satisfied: tomlkit<0.14.0,>=0.12.0 in /usr/local/lib/python3.11/dist-packages (from gradio) (0.13.2)\n",
            "Requirement already satisfied: typer<1.0,>=0.12 in /usr/local/lib/python3.11/dist-packages (from gradio) (0.15.2)\n",
            "Requirement already satisfied: typing-extensions~=4.0 in /usr/local/lib/python3.11/dist-packages (from gradio) (4.13.1)\n",
            "Requirement already satisfied: uvicorn>=0.14.0 in /usr/local/lib/python3.11/dist-packages (from gradio) (0.34.1)\n",
            "Requirement already satisfied: fsspec in /usr/local/lib/python3.11/dist-packages (from gradio-client==1.8.0->gradio) (2025.3.2)\n",
            "Requirement already satisfied: websockets<16.0,>=10.0 in /usr/local/lib/python3.11/dist-packages (from gradio-client==1.8.0->gradio) (15.0.1)\n",
            "Requirement already satisfied: idna>=2.8 in /usr/local/lib/python3.11/dist-packages (from anyio<5.0,>=3.0->gradio) (3.10)\n",
            "Requirement already satisfied: sniffio>=1.1 in /usr/local/lib/python3.11/dist-packages (from anyio<5.0,>=3.0->gradio) (1.3.1)\n",
            "Requirement already satisfied: certifi in /usr/local/lib/python3.11/dist-packages (from httpx>=0.24.1->gradio) (2025.1.31)\n",
            "Requirement already satisfied: httpcore==1.* in /usr/local/lib/python3.11/dist-packages (from httpx>=0.24.1->gradio) (1.0.7)\n",
            "Requirement already satisfied: h11<0.15,>=0.13 in /usr/local/lib/python3.11/dist-packages (from httpcore==1.*->httpx>=0.24.1->gradio) (0.14.0)\n",
            "Requirement already satisfied: filelock in /usr/local/lib/python3.11/dist-packages (from huggingface-hub>=0.28.1->gradio) (3.18.0)\n",
            "Requirement already satisfied: requests in /usr/local/lib/python3.11/dist-packages (from huggingface-hub>=0.28.1->gradio) (2.32.3)\n",
            "Requirement already satisfied: tqdm>=4.42.1 in /usr/local/lib/python3.11/dist-packages (from huggingface-hub>=0.28.1->gradio) (4.67.1)\n",
            "Requirement already satisfied: python-dateutil>=2.8.2 in /usr/local/lib/python3.11/dist-packages (from pandas<3.0,>=1.0->gradio) (2.8.2)\n",
            "Requirement already satisfied: pytz>=2020.1 in /usr/local/lib/python3.11/dist-packages (from pandas<3.0,>=1.0->gradio) (2025.2)\n",
            "Requirement already satisfied: tzdata>=2022.7 in /usr/local/lib/python3.11/dist-packages (from pandas<3.0,>=1.0->gradio) (2025.2)\n",
            "Requirement already satisfied: annotated-types>=0.6.0 in /usr/local/lib/python3.11/dist-packages (from pydantic<2.12,>=2.0->gradio) (0.7.0)\n",
            "Requirement already satisfied: pydantic-core==2.33.1 in /usr/local/lib/python3.11/dist-packages (from pydantic<2.12,>=2.0->gradio) (2.33.1)\n",
            "Requirement already satisfied: typing-inspection>=0.4.0 in /usr/local/lib/python3.11/dist-packages (from pydantic<2.12,>=2.0->gradio) (0.4.0)\n",
            "Requirement already satisfied: click>=8.0.0 in /usr/local/lib/python3.11/dist-packages (from typer<1.0,>=0.12->gradio) (8.1.8)\n",
            "Requirement already satisfied: shellingham>=1.3.0 in /usr/local/lib/python3.11/dist-packages (from typer<1.0,>=0.12->gradio) (1.5.4)\n",
            "Requirement already satisfied: rich>=10.11.0 in /usr/local/lib/python3.11/dist-packages (from typer<1.0,>=0.12->gradio) (13.9.4)\n",
            "Requirement already satisfied: six>=1.5 in /usr/local/lib/python3.11/dist-packages (from python-dateutil>=2.8.2->pandas<3.0,>=1.0->gradio) (1.17.0)\n",
            "Requirement already satisfied: markdown-it-py>=2.2.0 in /usr/local/lib/python3.11/dist-packages (from rich>=10.11.0->typer<1.0,>=0.12->gradio) (3.0.0)\n",
            "Requirement already satisfied: pygments<3.0.0,>=2.13.0 in /usr/local/lib/python3.11/dist-packages (from rich>=10.11.0->typer<1.0,>=0.12->gradio) (2.18.0)\n",
            "Requirement already satisfied: charset-normalizer<4,>=2 in /usr/local/lib/python3.11/dist-packages (from requests->huggingface-hub>=0.28.1->gradio) (3.4.1)\n",
            "Requirement already satisfied: urllib3<3,>=1.21.1 in /usr/local/lib/python3.11/dist-packages (from requests->huggingface-hub>=0.28.1->gradio) (2.3.0)\n",
            "Requirement already satisfied: mdurl~=0.1 in /usr/local/lib/python3.11/dist-packages (from markdown-it-py>=2.2.0->rich>=10.11.0->typer<1.0,>=0.12->gradio) (0.1.2)\n"
          ]
        }
      ],
      "source": [
        "!pip install gradio"
      ]
    },
    {
      "cell_type": "code",
      "execution_count": null,
      "metadata": {
        "colab": {
          "base_uri": "https://localhost:8080/",
          "height": 611
        },
        "id": "I-W8lI2s32SL",
        "outputId": "891bc3e7-2d25-4750-8474-76876f07587b"
      },
      "outputs": [
        {
          "output_type": "stream",
          "name": "stdout",
          "text": [
            "Colab notebook detected. To show errors in colab notebook, set debug=True in launch()\n",
            "* Running on public URL: https://4ac4c87a1656ca7942.gradio.live\n",
            "\n",
            "This share link expires in 1 week. For free permanent hosting and GPU upgrades, run `gradio deploy` from the terminal in the working directory to deploy to Hugging Face Spaces (https://huggingface.co/spaces)\n"
          ]
        },
        {
          "output_type": "display_data",
          "data": {
            "text/plain": [
              "<IPython.core.display.HTML object>"
            ],
            "text/html": [
              "<div><iframe src=\"https://4ac4c87a1656ca7942.gradio.live\" width=\"100%\" height=\"500\" allow=\"autoplay; camera; microphone; clipboard-read; clipboard-write;\" frameborder=\"0\" allowfullscreen></iframe></div>"
            ]
          },
          "metadata": {}
        },
        {
          "output_type": "execute_result",
          "data": {
            "text/plain": []
          },
          "metadata": {},
          "execution_count": 50
        }
      ],
      "source": [
        "import gradio as gr\n",
        "import re\n",
        "\n",
        "# Nutrition Q&A dataset\n",
        "nutrition_data = {\n",
        "    \"protein in egg\": \"One large egg contains about 6 grams of protein. Eggs are a great source of high-quality protein.\",\n",
        "    \"calories in avocado\": \"An average avocado contains about 234 calories. It's rich in healthy fats and fiber.\",\n",
        "    \"sources of vitamin d\": \"Sunlight, fortified foods, egg yolks, and fatty fish are good sources of Vitamin D.\",\n",
        "    \"healthy fats\": \"Healthy fats are found in avocados, nuts, seeds, olive oil, and fatty fish.\",\n",
        "    \"fiber in oats\": \"Oats contain about 4 grams of fiber per 100 grams. It's a good source of soluble fiber.\",\n",
        "    \"benefits of nuts\": \"Nuts are rich in healthy fats, protein, and fiber. They support heart health and weight management.\",\n",
        "    \"high-protein foods\": \"Foods like chicken, fish, eggs, lentils, and tofu are high in protein.\",\n",
        "    \"calcium-rich foods\": \"Dairy products like milk, cheese, and yogurt, as well as leafy greens, are rich in calcium.\",\n",
        "    \"protein in lentils\": \"Lentils contain about 9 grams of protein per half-cup cooked. They're a great plant-based protein source.\",\n",
        "    \"hydration foods\": \"Foods like watermelon, cucumbers, and oranges help keep you hydrated.\",\n",
        "    \"post-workout snack\": \"A protein smoothie, banana with peanut butter, or Greek yogurt is a great post-workout snack.\",\n",
        "    \"gluten-free snacks\": \"Try fruits, nuts, rice cakes, or gluten-free granola bars as gluten-free snack options.\",\n",
        "    \"vitamin c foods\": \"Citrus fruits like oranges, grapefruits, strawberries, and bell peppers are rich in Vitamin C.\",\n",
        "    \"omega-3 sources\": \"Omega-3s can be found in fatty fish, flaxseeds, chia seeds, and walnuts.\",\n",
        "    \"iron-rich foods\": \"Red meat, beans, lentils, and fortified cereals are excellent sources of iron.\",\n",
        "    \"vitamin b12 sources\": \"Vitamin B12 is found in animal products like meat, fish, eggs, and dairy, or fortified plant-based foods.\",\n",
        "    \"boost energy naturally\": \"Bananas, oats, nuts, and whole grains can provide sustained energy throughout the day.\",\n",
        "    \"muscle building foods\": \"Include lean proteins like chicken, fish, eggs, and plant-based sources like lentils and tofu.\",\n",
        "    \"brain food\": \"Omega-3 rich fish, berries, nuts, and dark chocolate are excellent for brain health.\",\n",
        "    \"healthy breakfast ideas\": \"A smoothie bowl with berries, oats, almond butter, and chia seeds is a healthy breakfast choice.\",\n",
        "    \"detoxifying foods\": \"Leafy greens, citrus fruits, garlic, and beets help support detoxification.\",\n",
        "    \"immune-boosting foods\": \"Citrus fruits, garlic, ginger, and spinach are known to support the immune system.\",\n",
        "    \"low-calorie snacks\": \"Try cucumber slices, popcorn, or Greek yogurt for low-calorie snack options.\",\n",
        "    \"stress-relieving foods\": \"Almonds, bananas, dark chocolate, and omega-3-rich foods help reduce stress.\",\n",
        "    \"hydration tips\": \"Carry a water bottle, eat water-rich foods like cucumbers and watermelon, and set reminders to drink water.\"\n",
        "}\n",
        "\n",
        "# Function to respond based on keyword matching\n",
        "def ask_nutrition_bot(question):\n",
        "    question = question.lower()  # Convert input to lowercase\n",
        "    question = re.sub(r\"[^a-zA-Z0-9\\s]\", \"\", question)  # Remove any non-alphanumeric characters\n",
        "\n",
        "    for keyword, response in nutrition_data.items():\n",
        "        if keyword in question:  # Match keywords in the question\n",
        "            return response\n",
        "    return \"Sorry, I couldn't find an answer to your question. Please rephrase or ask something else.\"\n",
        "\n",
        "# Gradio interface with examples\n",
        "interface = gr.Interface(\n",
        "    fn=ask_nutrition_bot,\n",
        "    inputs=gr.Textbox(label=\"Ask your nutrition question:\"),\n",
        "    outputs=gr.Textbox(label=\"NutritionBot Response\"),\n",
        "    title=\"Nutrition Q&A Bot\",\n",
        "    description=\"🤖 **Disclaimer:** This chatbot provides basic nutrition-related information and is not a substitute for professional advice.\\n\\n\"\n",
        "                \"💡 You can ask about:\\n- Nutritional values (e.g., 'How many calories in avocado?')\\n- Meal suggestions (e.g., 'What’s a healthy breakfast?')\",\n",
        "    examples=[\n",
        "        [\"How many calories in avocado?\"],\n",
        "        [\"How much protein in egg?\"],\n",
        "        [\"What are some hydration foods?\"],\n",
        "        [\"Give me healthy breakfast ideas\"],\n",
        "        [\"What are good sources of Vitamin D?\"]\n",
        "    ],\n",
        "    live=True\n",
        ")\n",
        "\n",
        "interface.launch(share=True)\n"
      ]
    }
  ],
  "metadata": {
    "colab": {
      "provenance": [],
      "include_colab_link": true
    },
    "kernelspec": {
      "display_name": "Python 3",
      "name": "python3"
    },
    "language_info": {
      "name": "python"
    }
  },
  "nbformat": 4,
  "nbformat_minor": 0
}